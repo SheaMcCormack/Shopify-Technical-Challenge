{
 "cells": [
  {
   "cell_type": "markdown",
   "metadata": {},
   "source": [
    "# Q1\n",
    "## a)\n",
    "We are including the strong outliers which are the customers who buy thousand of shoes. We can solve this problem by a number of ways.:\n",
    "\n",
    "-\tCalculate the Interquartile range and exclude outliers.\n",
    "-   Use Median instead of average\n",
    "-\tExclude any order over 10\n",
    "-\tRecord and exclude the userID of people who clients that bulk buy\n",
    "-\tRecord and exclude the specific orderID’s of bulk buys. "
   ]
  },
  {
   "cell_type": "markdown",
   "metadata": {},
   "source": [
    "## b)\n",
    "Median of the order to be less influenced by the outliers"
   ]
  },
  {
   "cell_type": "markdown",
   "metadata": {},
   "source": [
    "## c)  $284.0\n",
    "\n",
    "Code:\n"
   ]
  },
  {
   "cell_type": "code",
   "execution_count": 6,
   "metadata": {},
   "outputs": [
    {
     "name": "stdout",
     "output_type": "stream",
     "text": [
      "284.0\n"
     ]
    }
   ],
   "source": [
    "import pa`ndas as pd\n",
    "\n",
    "# Turn the .csv file into a pandas dataframe\n",
    "df = pd.read_csv ('2019 Winter Data Science Intern Challenge Data Set - Sheet1.csv')  \n",
    "\n",
    "# Calculate the median of the column 'order_amount'\n",
    "median = df['order_amount'].median()\n",
    "\n",
    "# display the median\n",
    "print(median)"
   ]
  },
  {
   "cell_type": "markdown",
   "metadata": {},
   "source": [
    "# Q2\n",
    "## a) 54\n",
    "~~~~sql\n",
    "Select count(*) 'Speedy Express Deliverys' \n",
    "From Orders  \n",
    "where ShipperID = ( \n",
    "SELECT ShipperID FROM Shippers \n",
    "where ShipperName = 'Speedy Express')\n",
    "~~~~"
   ]
  },
  {
   "cell_type": "markdown",
   "metadata": {},
   "source": [
    "## b) Peacock\n",
    "~~~~sql\n",
    "select LastName from Employees \n",
    "where EmployeeID = (SELECT EmployeeID\n",
    "FROM Orders\n",
    "GROUP BY EmployeeID\n",
    "ORDER BY COUNT(*) DESC\n",
    "LIMIT 1)\n",
    "~~~~"
   ]
  },
  {
   "cell_type": "markdown",
   "metadata": {},
   "source": [
    "## C) Boston Crab Meat\n",
    "~~~~sql\n",
    "SELECT ProductName from Products \n",
    "where ProductID = (SELECT ProductID \n",
    "FROM (select * from Orders\n",
    "where CustomerID in (select CustomerID from Customers\n",
    "where Country = 'Germany')) O\n",
    "LEFT Join [OrderDetails] D on O.OrderID = D.OrderID\n",
    "Group by ProductID\n",
    "Order by sum(Quantity) DESC\n",
    "Limit 1)\n",
    "~~~~\n"
   ]
  },
  {
   "cell_type": "code",
   "execution_count": null,
   "metadata": {},
   "outputs": [],
   "source": []
  }
 ],
 "metadata": {
  "kernelspec": {
   "display_name": "Python 3",
   "language": "python",
   "name": "python3"
  },
  "language_info": {
   "codemirror_mode": {
    "name": "ipython",
    "version": 3
   },
   "file_extension": ".py",
   "mimetype": "text/x-python",
   "name": "python",
   "nbconvert_exporter": "python",
   "pygments_lexer": "ipython3",
   "version": "3.8.5"
  }
 },
 "nbformat": 4,
 "nbformat_minor": 4
}
